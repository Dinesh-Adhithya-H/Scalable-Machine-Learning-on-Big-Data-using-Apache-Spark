{
  "nbformat": 4,
  "nbformat_minor": 0,
  "metadata": {
    "colab": {
      "name": "Introduction.ipynb",
      "provenance": [],
      "authorship_tag": "ABX9TyOlH/sqF7SgmF/iQVRBgp2g",
      "include_colab_link": true
    },
    "kernelspec": {
      "name": "python3",
      "display_name": "Python 3"
    },
    "language_info": {
      "name": "python"
    }
  },
  "cells": [
    {
      "cell_type": "markdown",
      "metadata": {
        "id": "view-in-github",
        "colab_type": "text"
      },
      "source": [
        "<a href=\"https://colab.research.google.com/github/Dinesh-Adhithya-H/Scalable-Machine-Learning-on-Big-Data-using-Apache-Spark/blob/main/Introduction.ipynb\" target=\"_parent\"><img src=\"https://colab.research.google.com/assets/colab-badge.svg\" alt=\"Open In Colab\"/></a>"
      ]
    },
    {
      "cell_type": "code",
      "metadata": {
        "id": "Co67jugzDtHS",
        "colab": {
          "base_uri": "https://localhost:8080/"
        },
        "outputId": "42c33a3f-cac9-4fc4-b48a-03270ea24273"
      },
      "source": [
        "!pip install pyspark"
      ],
      "execution_count": 1,
      "outputs": [
        {
          "output_type": "stream",
          "text": [
            "Collecting pyspark\n",
            "\u001b[?25l  Downloading https://files.pythonhosted.org/packages/89/db/e18cfd78e408de957821ec5ca56de1250645b05f8523d169803d8df35a64/pyspark-3.1.2.tar.gz (212.4MB)\n",
            "\u001b[K     |████████████████████████████████| 212.4MB 74kB/s \n",
            "\u001b[?25hCollecting py4j==0.10.9\n",
            "\u001b[?25l  Downloading https://files.pythonhosted.org/packages/9e/b6/6a4fb90cd235dc8e265a6a2067f2a2c99f0d91787f06aca4bcf7c23f3f80/py4j-0.10.9-py2.py3-none-any.whl (198kB)\n",
            "\u001b[K     |████████████████████████████████| 204kB 19.9MB/s \n",
            "\u001b[?25hBuilding wheels for collected packages: pyspark\n",
            "  Building wheel for pyspark (setup.py) ... \u001b[?25l\u001b[?25hdone\n",
            "  Created wheel for pyspark: filename=pyspark-3.1.2-py2.py3-none-any.whl size=212880768 sha256=5b24e2b39adc70f81a2fe806318fa93bf80361a09b03ee128bbc4d497b9b2b1a\n",
            "  Stored in directory: /root/.cache/pip/wheels/40/1b/2c/30f43be2627857ab80062bef1527c0128f7b4070b6b2d02139\n",
            "Successfully built pyspark\n",
            "Installing collected packages: py4j, pyspark\n",
            "Successfully installed py4j-0.10.9 pyspark-3.1.2\n"
          ],
          "name": "stdout"
        }
      ]
    },
    {
      "cell_type": "code",
      "metadata": {
        "id": "46yQV9FTDvdP"
      },
      "source": [
        "import pyspark\n",
        "from pyspark import SparkContext,SparkConf\n",
        "from pyspark.sql import SparkSession"
      ],
      "execution_count": 2,
      "outputs": []
    },
    {
      "cell_type": "code",
      "metadata": {
        "id": "VmK7BGo4bOzh"
      },
      "source": [
        "sc=SparkContext.getOrCreate(SparkConf().setMaster(\"local[*]\"))"
      ],
      "execution_count": 3,
      "outputs": []
    },
    {
      "cell_type": "code",
      "metadata": {
        "id": "tQ62tUOlbyGM"
      },
      "source": [
        "spark=SparkSession.builder.getOrCreate()"
      ],
      "execution_count": 5,
      "outputs": []
    },
    {
      "cell_type": "code",
      "metadata": {
        "id": "GKXr4HXSb8v9"
      },
      "source": [
        "rdd=sc.parallelize(range(1000))"
      ],
      "execution_count": 6,
      "outputs": []
    },
    {
      "cell_type": "code",
      "metadata": {
        "colab": {
          "base_uri": "https://localhost:8080/"
        },
        "id": "njKNE-qycD96",
        "outputId": "beb0ef55-bfa4-4e22-ce1c-15a8f1af8f3b"
      },
      "source": [
        "rdd.count()"
      ],
      "execution_count": 10,
      "outputs": [
        {
          "output_type": "execute_result",
          "data": {
            "text/plain": [
              "1000"
            ]
          },
          "metadata": {
            "tags": []
          },
          "execution_count": 10
        }
      ]
    },
    {
      "cell_type": "code",
      "metadata": {
        "colab": {
          "base_uri": "https://localhost:8080/"
        },
        "id": "vFP_-1V1cOKh",
        "outputId": "8eb11e9e-b034-4b1a-e27d-9b75132ef879"
      },
      "source": [
        "rdd.sum()"
      ],
      "execution_count": 11,
      "outputs": [
        {
          "output_type": "execute_result",
          "data": {
            "text/plain": [
              "499500"
            ]
          },
          "metadata": {
            "tags": []
          },
          "execution_count": 11
        }
      ]
    },
    {
      "cell_type": "code",
      "metadata": {
        "colab": {
          "base_uri": "https://localhost:8080/"
        },
        "id": "EY4mFVtncYAa",
        "outputId": "35e565d7-c0d6-457f-bc2f-c91be19042c6"
      },
      "source": [
        "rdd.take(4)"
      ],
      "execution_count": 12,
      "outputs": [
        {
          "output_type": "execute_result",
          "data": {
            "text/plain": [
              "[0, 1, 2, 3]"
            ]
          },
          "metadata": {
            "tags": []
          },
          "execution_count": 12
        }
      ]
    },
    {
      "cell_type": "code",
      "metadata": {
        "colab": {
          "base_uri": "https://localhost:8080/"
        },
        "id": "NrmU_mZIgUj1",
        "outputId": "c127bd63-f807-4d17-ae3f-c7c7ab5f6ebc"
      },
      "source": [
        "rdd.cache()"
      ],
      "execution_count": 13,
      "outputs": [
        {
          "output_type": "execute_result",
          "data": {
            "text/plain": [
              "PythonRDD[1] at RDD at PythonRDD.scala:53"
            ]
          },
          "metadata": {
            "tags": []
          },
          "execution_count": 13
        }
      ]
    },
    {
      "cell_type": "code",
      "metadata": {
        "colab": {
          "base_uri": "https://localhost:8080/"
        },
        "id": "vCr2UMtwgXDJ",
        "outputId": "b9028230-ea81-4294-c214-594536e40ad3"
      },
      "source": [
        "rdd.randomSplit(weights=[1,2,3])"
      ],
      "execution_count": 16,
      "outputs": [
        {
          "output_type": "execute_result",
          "data": {
            "text/plain": [
              "[PythonRDD[5] at RDD at PythonRDD.scala:53,\n",
              " PythonRDD[6] at RDD at PythonRDD.scala:53,\n",
              " PythonRDD[7] at RDD at PythonRDD.scala:53]"
            ]
          },
          "metadata": {
            "tags": []
          },
          "execution_count": 16
        }
      ]
    },
    {
      "cell_type": "code",
      "metadata": {
        "colab": {
          "base_uri": "https://localhost:8080/"
        },
        "id": "ecUaEHjkgzSW",
        "outputId": "ac376b4c-8b6e-409a-f39e-2a6f76a30c14"
      },
      "source": [
        "rdd"
      ],
      "execution_count": 19,
      "outputs": [
        {
          "output_type": "execute_result",
          "data": {
            "text/plain": [
              "PythonRDD[1] at RDD at PythonRDD.scala:53"
            ]
          },
          "metadata": {
            "tags": []
          },
          "execution_count": 19
        }
      ]
    },
    {
      "cell_type": "code",
      "metadata": {
        "id": "twlJJktThA-H"
      },
      "source": [
        "def gt50(i):\n",
        "  if i>50:\n",
        "    return True\n",
        "  return False"
      ],
      "execution_count": 21,
      "outputs": []
    },
    {
      "cell_type": "code",
      "metadata": {
        "colab": {
          "base_uri": "https://localhost:8080/"
        },
        "id": "LiVeFsoMlQxK",
        "outputId": "996f322a-1c8e-4296-a9f5-161623bba090"
      },
      "source": [
        "gt50(4)"
      ],
      "execution_count": 22,
      "outputs": [
        {
          "output_type": "execute_result",
          "data": {
            "text/plain": [
              "False"
            ]
          },
          "metadata": {
            "tags": []
          },
          "execution_count": 22
        }
      ]
    },
    {
      "cell_type": "code",
      "metadata": {
        "colab": {
          "base_uri": "https://localhost:8080/"
        },
        "id": "bh6GeBX5lWrY",
        "outputId": "0f512198-b293-42ea-83c8-3e9911c4ad83"
      },
      "source": [
        "gt50(88)"
      ],
      "execution_count": 23,
      "outputs": [
        {
          "output_type": "execute_result",
          "data": {
            "text/plain": [
              "True"
            ]
          },
          "metadata": {
            "tags": []
          },
          "execution_count": 23
        }
      ]
    },
    {
      "cell_type": "code",
      "metadata": {
        "id": "Fq6DItJ-lYNt"
      },
      "source": [
        "gt50 = lambda i:i>50"
      ],
      "execution_count": 24,
      "outputs": []
    },
    {
      "cell_type": "code",
      "metadata": {
        "colab": {
          "base_uri": "https://localhost:8080/"
        },
        "id": "Ydq9bN7gle8K",
        "outputId": "81640756-049b-410b-b740-ed3cf638fe3d"
      },
      "source": [
        "gt50(8)"
      ],
      "execution_count": 25,
      "outputs": [
        {
          "output_type": "execute_result",
          "data": {
            "text/plain": [
              "False"
            ]
          },
          "metadata": {
            "tags": []
          },
          "execution_count": 25
        }
      ]
    },
    {
      "cell_type": "code",
      "metadata": {
        "colab": {
          "base_uri": "https://localhost:8080/"
        },
        "id": "WAaN0oDqlhiI",
        "outputId": "2e4c9a44-13f1-4b98-f843-de57c3a79813"
      },
      "source": [
        "gt50(99)"
      ],
      "execution_count": 26,
      "outputs": [
        {
          "output_type": "execute_result",
          "data": {
            "text/plain": [
              "True"
            ]
          },
          "metadata": {
            "tags": []
          },
          "execution_count": 26
        }
      ]
    },
    {
      "cell_type": "code",
      "metadata": {
        "id": "F3mgh1xVmTox"
      },
      "source": [
        "from random import shuffle\n",
        "l=list(range(100))\n",
        "shuffle(l)\n",
        "rdd=sc.parallelize(l)"
      ],
      "execution_count": 27,
      "outputs": []
    },
    {
      "cell_type": "code",
      "metadata": {
        "colab": {
          "base_uri": "https://localhost:8080/"
        },
        "id": "VFS6goDypByD",
        "outputId": "5c2c943a-928e-4ad1-bebb-5f84be30f4b6"
      },
      "source": [
        "rdd.filter(gt50).take(10)"
      ],
      "execution_count": 28,
      "outputs": [
        {
          "output_type": "execute_result",
          "data": {
            "text/plain": [
              "[67, 55, 65, 51, 76, 52, 77, 80, 71, 79]"
            ]
          },
          "metadata": {
            "tags": []
          },
          "execution_count": 28
        }
      ]
    },
    {
      "cell_type": "code",
      "metadata": {
        "colab": {
          "base_uri": "https://localhost:8080/"
        },
        "id": "af4h3_b0pFgA",
        "outputId": "572c8353-bc92-4986-9c50-7a32d6cd0367"
      },
      "source": [
        "rdd.filter(lambda i : i>50).collect()"
      ],
      "execution_count": 29,
      "outputs": [
        {
          "output_type": "execute_result",
          "data": {
            "text/plain": [
              "[67,\n",
              " 55,\n",
              " 65,\n",
              " 51,\n",
              " 76,\n",
              " 52,\n",
              " 77,\n",
              " 80,\n",
              " 71,\n",
              " 79,\n",
              " 58,\n",
              " 72,\n",
              " 95,\n",
              " 97,\n",
              " 75,\n",
              " 66,\n",
              " 83,\n",
              " 59,\n",
              " 53,\n",
              " 89,\n",
              " 88,\n",
              " 74,\n",
              " 86,\n",
              " 57,\n",
              " 96,\n",
              " 87,\n",
              " 62,\n",
              " 98,\n",
              " 91,\n",
              " 85,\n",
              " 82,\n",
              " 60,\n",
              " 63,\n",
              " 68,\n",
              " 61,\n",
              " 56,\n",
              " 94,\n",
              " 69,\n",
              " 93,\n",
              " 70,\n",
              " 81,\n",
              " 90,\n",
              " 54,\n",
              " 99,\n",
              " 78,\n",
              " 92,\n",
              " 84,\n",
              " 73,\n",
              " 64]"
            ]
          },
          "metadata": {
            "tags": []
          },
          "execution_count": 29
        }
      ]
    },
    {
      "cell_type": "code",
      "metadata": {
        "colab": {
          "base_uri": "https://localhost:8080/"
        },
        "id": "8nbsR7Z7pU05",
        "outputId": "3b16e1f8-c382-4bea-e25d-277d0a4386cc"
      },
      "source": [
        "rdd.filter(lambda i: i > 50 & i < 75).sum()"
      ],
      "execution_count": 30,
      "outputs": [
        {
          "output_type": "execute_result",
          "data": {
            "text/plain": [
              "4750"
            ]
          },
          "metadata": {
            "tags": []
          },
          "execution_count": 30
        }
      ]
    },
    {
      "cell_type": "code",
      "metadata": {
        "colab": {
          "base_uri": "https://localhost:8080/"
        },
        "id": "WM15Yt7xpdly",
        "outputId": "a8083451-9855-4b81-d4d8-0f5c32378084"
      },
      "source": [
        "rdd.reduce(lambda a, b : a+b)"
      ],
      "execution_count": 31,
      "outputs": [
        {
          "output_type": "execute_result",
          "data": {
            "text/plain": [
              "4950"
            ]
          },
          "metadata": {
            "tags": []
          },
          "execution_count": 31
        }
      ]
    },
    {
      "cell_type": "code",
      "metadata": {
        "colab": {
          "base_uri": "https://localhost:8080/"
        },
        "id": "HYT2C-eypfaP",
        "outputId": "8e8bc58f-3a74-457f-aac2-1a0ddb17189f"
      },
      "source": [
        "from pyspark.sql import Row\n",
        "\n",
        "df=spark.createDataFrame([Row(id=1,name=\"jm\",country=\"portugal\"),Row(id=2,name=\"cr\",country=\"portugal\")])\n",
        "df.show()"
      ],
      "execution_count": 36,
      "outputs": [
        {
          "output_type": "stream",
          "text": [
            "+---+----+--------+\n",
            "| id|name| country|\n",
            "+---+----+--------+\n",
            "|  1|  jm|portugal|\n",
            "|  2|  cr|portugal|\n",
            "+---+----+--------+\n",
            "\n"
          ],
          "name": "stdout"
        }
      ]
    },
    {
      "cell_type": "code",
      "metadata": {
        "colab": {
          "base_uri": "https://localhost:8080/"
        },
        "id": "W7461oju6bbS",
        "outputId": "f0d53e95-cc10-4701-ce71-a99b6a372113"
      },
      "source": [
        "df.printSchema()"
      ],
      "execution_count": 37,
      "outputs": [
        {
          "output_type": "stream",
          "text": [
            "root\n",
            " |-- id: long (nullable = true)\n",
            " |-- name: string (nullable = true)\n",
            " |-- country: string (nullable = true)\n",
            "\n"
          ],
          "name": "stdout"
        }
      ]
    },
    {
      "cell_type": "code",
      "metadata": {
        "id": "2k7lG3O_6xrO"
      },
      "source": [
        "df.createOrReplaceTempView('df_view')"
      ],
      "execution_count": 38,
      "outputs": []
    },
    {
      "cell_type": "code",
      "metadata": {
        "id": "0TrrYvFH68dU"
      },
      "source": [
        "df_result=spark.sql(\"select name from df_view\")"
      ],
      "execution_count": 39,
      "outputs": []
    },
    {
      "cell_type": "code",
      "metadata": {
        "colab": {
          "base_uri": "https://localhost:8080/"
        },
        "id": "WqLvq3Z87Dak",
        "outputId": "8f5c22aa-cbc0-47ab-fcc0-4decc2e56a7b"
      },
      "source": [
        "df_result.show()"
      ],
      "execution_count": 41,
      "outputs": [
        {
          "output_type": "stream",
          "text": [
            "+----+\n",
            "|name|\n",
            "+----+\n",
            "|  jm|\n",
            "|  cr|\n",
            "+----+\n",
            "\n"
          ],
          "name": "stdout"
        }
      ]
    },
    {
      "cell_type": "code",
      "metadata": {
        "colab": {
          "base_uri": "https://localhost:8080/",
          "height": 36
        },
        "id": "vBziILlc7FK8",
        "outputId": "5cb15bb8-4714-4b73-ef00-e7d63b43177c"
      },
      "source": [
        "df_result.first().name"
      ],
      "execution_count": 43,
      "outputs": [
        {
          "output_type": "execute_result",
          "data": {
            "application/vnd.google.colaboratory.intrinsic+json": {
              "type": "string"
            },
            "text/plain": [
              "'jm'"
            ]
          },
          "metadata": {
            "tags": []
          },
          "execution_count": 43
        }
      ]
    },
    {
      "cell_type": "code",
      "metadata": {
        "colab": {
          "base_uri": "https://localhost:8080/"
        },
        "id": "WZfqjBDb7K5S",
        "outputId": "39dd4fe2-bf23-4466-cbd0-f25684cfc5b8"
      },
      "source": [
        "df.count()"
      ],
      "execution_count": 44,
      "outputs": [
        {
          "output_type": "execute_result",
          "data": {
            "text/plain": [
              "2"
            ]
          },
          "metadata": {
            "tags": []
          },
          "execution_count": 44
        }
      ]
    },
    {
      "cell_type": "code",
      "metadata": {
        "id": "LvnjRE3G7Pu0"
      },
      "source": [
        ""
      ],
      "execution_count": null,
      "outputs": []
    }
  ]
}