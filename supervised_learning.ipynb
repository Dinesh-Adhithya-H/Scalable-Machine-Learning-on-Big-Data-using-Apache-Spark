{
  "nbformat": 4,
  "nbformat_minor": 0,
  "metadata": {
    "colab": {
      "name": "supervised_learning.ipynb",
      "provenance": [],
      "authorship_tag": "ABX9TyOQ6XC0nx9v8dpjRScINUX8",
      "include_colab_link": true
    },
    "kernelspec": {
      "name": "python3",
      "display_name": "Python 3"
    },
    "language_info": {
      "name": "python"
    }
  },
  "cells": [
    {
      "cell_type": "markdown",
      "metadata": {
        "id": "view-in-github",
        "colab_type": "text"
      },
      "source": [
        "<a href=\"https://colab.research.google.com/github/Dinesh-Adhithya-H/Scalable-Machine-Learning-on-Big-Data-using-Apache-Spark/blob/main/supervised_learning.ipynb\" target=\"_parent\"><img src=\"https://colab.research.google.com/assets/colab-badge.svg\" alt=\"Open In Colab\"/></a>"
      ]
    },
    {
      "cell_type": "code",
      "metadata": {
        "colab": {
          "base_uri": "https://localhost:8080/"
        },
        "id": "egltQAaH9Yd_",
        "outputId": "f57aa3c7-79e3-4c1c-a783-12fb9a25b4fe"
      },
      "source": [
        "!pip install pyspark\n",
        "import pyspark\n",
        "from pyspark import SparkContext,SparkConf\n",
        "from pyspark.sql import SparkSession\n",
        "sc=SparkContext.getOrCreate(SparkConf().setMaster(\"local[*]\"))\n",
        "spark=SparkSession.builder.getOrCreate()"
      ],
      "execution_count": 1,
      "outputs": [
        {
          "output_type": "stream",
          "text": [
            "Collecting pyspark\n",
            "\u001b[?25l  Downloading https://files.pythonhosted.org/packages/89/db/e18cfd78e408de957821ec5ca56de1250645b05f8523d169803d8df35a64/pyspark-3.1.2.tar.gz (212.4MB)\n",
            "\u001b[K     |████████████████████████████████| 212.4MB 72kB/s \n",
            "\u001b[?25hCollecting py4j==0.10.9\n",
            "\u001b[?25l  Downloading https://files.pythonhosted.org/packages/9e/b6/6a4fb90cd235dc8e265a6a2067f2a2c99f0d91787f06aca4bcf7c23f3f80/py4j-0.10.9-py2.py3-none-any.whl (198kB)\n",
            "\u001b[K     |████████████████████████████████| 204kB 20.1MB/s \n",
            "\u001b[?25hBuilding wheels for collected packages: pyspark\n",
            "  Building wheel for pyspark (setup.py) ... \u001b[?25l\u001b[?25hdone\n",
            "  Created wheel for pyspark: filename=pyspark-3.1.2-py2.py3-none-any.whl size=212880768 sha256=da6d523241d55e509583a26787068f990f5d9738c4275bb2e55de77234d79005\n",
            "  Stored in directory: /root/.cache/pip/wheels/40/1b/2c/30f43be2627857ab80062bef1527c0128f7b4070b6b2d02139\n",
            "Successfully built pyspark\n",
            "Installing collected packages: py4j, pyspark\n",
            "Successfully installed py4j-0.10.9 pyspark-3.1.2\n"
          ],
          "name": "stdout"
        }
      ]
    },
    {
      "cell_type": "code",
      "metadata": {
        "colab": {
          "base_uri": "https://localhost:8080/"
        },
        "id": "cfUUTr8J9qvo",
        "outputId": "14f62467-1ca5-4476-f75d-4de737f9d83b"
      },
      "source": [
        "!wget https://github.com/IBM/coursera/raw/master/hmp.parquet\n",
        "df = spark.read.parquet('hmp.parquet')\n",
        "df.createOrReplaceTempView('df')"
      ],
      "execution_count": 2,
      "outputs": [
        {
          "output_type": "stream",
          "text": [
            "--2021-06-05 11:38:20--  https://github.com/IBM/coursera/raw/master/hmp.parquet\n",
            "Resolving github.com (github.com)... 140.82.114.4\n",
            "Connecting to github.com (github.com)|140.82.114.4|:443... connected.\n",
            "HTTP request sent, awaiting response... 301 Moved Permanently\n",
            "Location: https://github.com/IBM/skillsnetwork/raw/master/hmp.parquet [following]\n",
            "--2021-06-05 11:38:20--  https://github.com/IBM/skillsnetwork/raw/master/hmp.parquet\n",
            "Reusing existing connection to github.com:443.\n",
            "HTTP request sent, awaiting response... 302 Found\n",
            "Location: https://raw.githubusercontent.com/IBM/skillsnetwork/master/hmp.parquet [following]\n",
            "--2021-06-05 11:38:20--  https://raw.githubusercontent.com/IBM/skillsnetwork/master/hmp.parquet\n",
            "Resolving raw.githubusercontent.com (raw.githubusercontent.com)... 185.199.108.133, 185.199.111.133, 185.199.109.133, ...\n",
            "Connecting to raw.githubusercontent.com (raw.githubusercontent.com)|185.199.108.133|:443... connected.\n",
            "HTTP request sent, awaiting response... 200 OK\n",
            "Length: 932997 (911K) [application/octet-stream]\n",
            "Saving to: ‘hmp.parquet’\n",
            "\n",
            "hmp.parquet         100%[===================>] 911.13K  --.-KB/s    in 0.05s   \n",
            "\n",
            "2021-06-05 11:38:20 (16.2 MB/s) - ‘hmp.parquet’ saved [932997/932997]\n",
            "\n"
          ],
          "name": "stdout"
        }
      ]
    },
    {
      "cell_type": "code",
      "metadata": {
        "id": "rjjhAC3I9yPM"
      },
      "source": [
        "splits=df.randomSplit([0.8,0.2])"
      ],
      "execution_count": 3,
      "outputs": []
    },
    {
      "cell_type": "code",
      "metadata": {
        "id": "DCxIPkJz9-ec"
      },
      "source": [
        "train=splits[0]\n",
        "test=splits[1]"
      ],
      "execution_count": 6,
      "outputs": []
    },
    {
      "cell_type": "code",
      "metadata": {
        "colab": {
          "base_uri": "https://localhost:8080/"
        },
        "id": "z7N7APeq_2jN",
        "outputId": "6507c19d-7b7c-4258-97ff-b930b71a0939"
      },
      "source": [
        "train.show()"
      ],
      "execution_count": 16,
      "outputs": [
        {
          "output_type": "stream",
          "text": [
            "+---+---+---+--------------------+-------------+\n",
            "|  x|  y|  z|              source|        class|\n",
            "+---+---+---+--------------------+-------------+\n",
            "|  0| 12| 39|Accelerometer-201...|Sitdown_chair|\n",
            "|  0| 15| 39|Accelerometer-201...|  Brush_teeth|\n",
            "|  0| 16| 31|Accelerometer-201...|    Getup_bed|\n",
            "|  0| 23| 36|Accelerometer-201...|  Brush_teeth|\n",
            "|  0| 24| 35|Accelerometer-201...|Sitdown_chair|\n",
            "|  0| 25| 30|Accelerometer-201...|  Brush_teeth|\n",
            "|  0| 25| 40|Accelerometer-201...|  Brush_teeth|\n",
            "|  0| 26| 15|Accelerometer-201...| Climb_stairs|\n",
            "|  0| 26| 42|Accelerometer-201...|  Brush_teeth|\n",
            "|  0| 27| 31|Accelerometer-201...|Sitdown_chair|\n",
            "|  0| 27| 33|Accelerometer-201...|    Getup_bed|\n",
            "|  0| 27| 37|Accelerometer-201...|  Brush_teeth|\n",
            "|  0| 27| 39|Accelerometer-201...|  Brush_teeth|\n",
            "|  0| 27| 41|Accelerometer-201...|  Brush_teeth|\n",
            "|  0| 28| 28|Accelerometer-201...|  Brush_teeth|\n",
            "|  0| 28| 48|Accelerometer-201...|  Brush_teeth|\n",
            "|  0| 29| 25|Accelerometer-201...| Climb_stairs|\n",
            "|  0| 29| 34|Accelerometer-201...|         Walk|\n",
            "|  0| 29| 37|Accelerometer-201...|  Brush_teeth|\n",
            "|  0| 29| 38|Accelerometer-201...|  Brush_teeth|\n",
            "+---+---+---+--------------------+-------------+\n",
            "only showing top 20 rows\n",
            "\n"
          ],
          "name": "stdout"
        }
      ]
    },
    {
      "cell_type": "code",
      "metadata": {
        "id": "eYXOK25G-AHp"
      },
      "source": [
        "from pyspark.ml.feature import StringIndexer,OneHotEncoder\n",
        "from pyspark.ml.linalg import Vectors\n",
        "from pyspark.ml.feature import VectorAssembler\n",
        "from pyspark.ml.feature import Normalizer"
      ],
      "execution_count": 7,
      "outputs": []
    },
    {
      "cell_type": "code",
      "metadata": {
        "id": "0aab5d4K-YAW"
      },
      "source": [
        "indexer=StringIndexer(inputCol=\"class\",outputCol=\"label\")\n",
        "vectorassembler=VectorAssembler(inputCols=[\"x\",\"y\",\"z\"],outputCol=\"features\")\n",
        "normalizer=Normalizer(inputCol=\"features\",outputCol=\"features_norm\", p=1.0)"
      ],
      "execution_count": 8,
      "outputs": []
    },
    {
      "cell_type": "code",
      "metadata": {
        "id": "Z1BUHji_-yPd"
      },
      "source": [
        "from pyspark.ml.classification import LogisticRegression,LinearSVC\n",
        "from pyspark.ml import Pipeline"
      ],
      "execution_count": 11,
      "outputs": []
    },
    {
      "cell_type": "code",
      "metadata": {
        "id": "YY02ihmW-_CF"
      },
      "source": [
        "lr=LogisticRegression(featuresCol =\"features_norm\", labelCol = 'label',maxIter=100,regParam=0.5,elasticNetParam=0.8)\n",
        "pipeline=Pipeline(stages=[indexer,vectorassembler,normalizer])"
      ],
      "execution_count": 43,
      "outputs": []
    },
    {
      "cell_type": "code",
      "metadata": {
        "id": "chJuwb1L_ZFU"
      },
      "source": [
        "model=pipeline.fit(train)\n",
        "prediction=model.transform(test)"
      ],
      "execution_count": 44,
      "outputs": []
    },
    {
      "cell_type": "code",
      "metadata": {
        "colab": {
          "base_uri": "https://localhost:8080/"
        },
        "id": "LPnYoBhSA0X0",
        "outputId": "6bca7e45-15ec-4187-ff92-6773554ed544"
      },
      "source": [
        "prediction"
      ],
      "execution_count": 45,
      "outputs": [
        {
          "output_type": "execute_result",
          "data": {
            "text/plain": [
              "DataFrame[x: int, y: int, z: int, source: string, class: string, label: double, features: vector, features_norm: vector]"
            ]
          },
          "metadata": {
            "tags": []
          },
          "execution_count": 45
        }
      ]
    },
    {
      "cell_type": "code",
      "metadata": {
        "colab": {
          "base_uri": "https://localhost:8080/"
        },
        "id": "NGfOmAoB_xX7",
        "outputId": "574f4ca1-d5c6-46c4-edf7-872ebf22f5f8"
      },
      "source": [
        "prediction.printSchema()"
      ],
      "execution_count": 46,
      "outputs": [
        {
          "output_type": "stream",
          "text": [
            "root\n",
            " |-- x: integer (nullable = true)\n",
            " |-- y: integer (nullable = true)\n",
            " |-- z: integer (nullable = true)\n",
            " |-- source: string (nullable = true)\n",
            " |-- class: string (nullable = true)\n",
            " |-- label: double (nullable = false)\n",
            " |-- features: vector (nullable = true)\n",
            " |-- features_norm: vector (nullable = true)\n",
            "\n"
          ],
          "name": "stdout"
        }
      ]
    },
    {
      "cell_type": "code",
      "metadata": {
        "id": "FporbxieCVMJ"
      },
      "source": [
        ""
      ],
      "execution_count": null,
      "outputs": []
    }
  ]
}