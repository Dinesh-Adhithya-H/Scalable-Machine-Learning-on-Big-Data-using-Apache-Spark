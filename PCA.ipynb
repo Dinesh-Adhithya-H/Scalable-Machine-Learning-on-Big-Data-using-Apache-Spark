{
  "nbformat": 4,
  "nbformat_minor": 0,
  "metadata": {
    "colab": {
      "name": "PCA.ipynb",
      "provenance": [],
      "authorship_tag": "ABX9TyNCZKQzQ3Wo2SHxH9RSN+g+",
      "include_colab_link": true
    },
    "kernelspec": {
      "name": "python3",
      "display_name": "Python 3"
    },
    "language_info": {
      "name": "python"
    }
  },
  "cells": [
    {
      "cell_type": "markdown",
      "metadata": {
        "id": "view-in-github",
        "colab_type": "text"
      },
      "source": [
        "<a href=\"https://colab.research.google.com/github/Dinesh-Adhithya-H/Scalable-Machine-Learning-on-Big-Data-using-Apache-Spark/blob/main/PCA.ipynb\" target=\"_parent\"><img src=\"https://colab.research.google.com/assets/colab-badge.svg\" alt=\"Open In Colab\"/></a>"
      ]
    },
    {
      "cell_type": "code",
      "metadata": {
        "colab": {
          "base_uri": "https://localhost:8080/"
        },
        "id": "PsDfz3Fi301z",
        "outputId": "76841fff-33ff-4fcb-b0a4-ab2c968b6a99"
      },
      "source": [
        "!pip install pyspark\n",
        "import pyspark\n",
        "from pyspark import SparkContext,SparkConf\n",
        "from pyspark.sql import SparkSession\n",
        "sc=SparkContext.getOrCreate(SparkConf().setMaster(\"local[*]\"))\n",
        "spark=SparkSession.builder.getOrCreate()"
      ],
      "execution_count": 2,
      "outputs": [
        {
          "output_type": "stream",
          "text": [
            "Collecting pyspark\n",
            "\u001b[?25l  Downloading https://files.pythonhosted.org/packages/89/db/e18cfd78e408de957821ec5ca56de1250645b05f8523d169803d8df35a64/pyspark-3.1.2.tar.gz (212.4MB)\n",
            "\u001b[K     |████████████████████████████████| 212.4MB 66kB/s \n",
            "\u001b[?25hCollecting py4j==0.10.9\n",
            "\u001b[?25l  Downloading https://files.pythonhosted.org/packages/9e/b6/6a4fb90cd235dc8e265a6a2067f2a2c99f0d91787f06aca4bcf7c23f3f80/py4j-0.10.9-py2.py3-none-any.whl (198kB)\n",
            "\u001b[K     |████████████████████████████████| 204kB 18.9MB/s \n",
            "\u001b[?25hBuilding wheels for collected packages: pyspark\n",
            "  Building wheel for pyspark (setup.py) ... \u001b[?25l\u001b[?25hdone\n",
            "  Created wheel for pyspark: filename=pyspark-3.1.2-py2.py3-none-any.whl size=212880768 sha256=ead0a1a70d0f76bc86e752081f24cac8fe77196001c6d22ae5895fd6a9a8682d\n",
            "  Stored in directory: /root/.cache/pip/wheels/40/1b/2c/30f43be2627857ab80062bef1527c0128f7b4070b6b2d02139\n",
            "Successfully built pyspark\n",
            "Installing collected packages: py4j, pyspark\n",
            "Successfully installed py4j-0.10.9 pyspark-3.1.2\n",
            "Requirement already satisfied: pyspark in /usr/local/lib/python3.7/dist-packages (3.1.2)\n",
            "Requirement already satisfied: py4j==0.10.9 in /usr/local/lib/python3.7/dist-packages (from pyspark) (0.10.9)\n"
          ],
          "name": "stdout"
        }
      ]
    },
    {
      "cell_type": "code",
      "metadata": {
        "colab": {
          "base_uri": "https://localhost:8080/"
        },
        "id": "Ehb29zMW4SpM",
        "outputId": "65d10778-0b33-416a-8a98-93a7dc15c2c4"
      },
      "source": [
        "!wget https://github.com/IBM/coursera/blob/master/coursera_ds/washing.parquet?raw=true\n",
        "!mv washing.parquet?raw=true washing.parquet\n",
        "df = spark.read.parquet('washing.parquet')\n",
        "df.createOrReplaceTempView('washing')\n",
        "df.show()"
      ],
      "execution_count": 4,
      "outputs": [
        {
          "output_type": "stream",
          "text": [
            "--2021-06-05 11:14:19--  https://github.com/IBM/coursera/blob/master/coursera_ds/washing.parquet?raw=true\n",
            "Resolving github.com (github.com)... 192.30.255.113\n",
            "Connecting to github.com (github.com)|192.30.255.113|:443... connected.\n",
            "HTTP request sent, awaiting response... 301 Moved Permanently\n",
            "Location: https://github.com/IBM/skillsnetwork/blob/master/coursera_ds/washing.parquet?raw=true [following]\n",
            "--2021-06-05 11:14:19--  https://github.com/IBM/skillsnetwork/blob/master/coursera_ds/washing.parquet?raw=true\n",
            "Reusing existing connection to github.com:443.\n",
            "HTTP request sent, awaiting response... 302 Found\n",
            "Location: https://github.com/IBM/skillsnetwork/raw/master/coursera_ds/washing.parquet [following]\n",
            "--2021-06-05 11:14:19--  https://github.com/IBM/skillsnetwork/raw/master/coursera_ds/washing.parquet\n",
            "Reusing existing connection to github.com:443.\n",
            "HTTP request sent, awaiting response... 302 Found\n",
            "Location: https://raw.githubusercontent.com/IBM/skillsnetwork/master/coursera_ds/washing.parquet [following]\n",
            "--2021-06-05 11:14:19--  https://raw.githubusercontent.com/IBM/skillsnetwork/master/coursera_ds/washing.parquet\n",
            "Resolving raw.githubusercontent.com (raw.githubusercontent.com)... 185.199.111.133, 185.199.108.133, 185.199.109.133, ...\n",
            "Connecting to raw.githubusercontent.com (raw.githubusercontent.com)|185.199.111.133|:443... connected.\n",
            "HTTP request sent, awaiting response... 200 OK\n",
            "Length: 112048 (109K) [application/octet-stream]\n",
            "Saving to: ‘washing.parquet?raw=true’\n",
            "\n",
            "washing.parquet?raw 100%[===================>] 109.42K  --.-KB/s    in 0.01s   \n",
            "\n",
            "2021-06-05 11:14:19 (8.20 MB/s) - ‘washing.parquet?raw=true’ saved [112048/112048]\n",
            "\n",
            "+--------------------+--------------------+-----+--------+----------+---------+--------+-----+-----------+-------------+-------+\n",
            "|                 _id|                _rev|count|flowrate|fluidlevel|frequency|hardness|speed|temperature|           ts|voltage|\n",
            "+--------------------+--------------------+-----+--------+----------+---------+--------+-----+-----------+-------------+-------+\n",
            "|0d86485d0f88d1f9d...|1-57940679fb8a713...|    4|      11|acceptable|     null|      77| null|        100|1547808723923|   null|\n",
            "|0d86485d0f88d1f9d...|1-15ff3a0b304d789...|    2|    null|      null|     null|    null| 1046|       null|1547808729917|   null|\n",
            "|0d86485d0f88d1f9d...|1-97c2742b68c7b07...|    4|    null|      null|       71|    null| null|       null|1547808731918|    236|\n",
            "|0d86485d0f88d1f9d...|1-eefb903dbe45746...|   19|      11|acceptable|     null|      75| null|         86|1547808738999|   null|\n",
            "|0d86485d0f88d1f9d...|1-5f68b4c72813c25...|    7|    null|      null|       75|    null| null|       null|1547808740927|    235|\n",
            "|0d86485d0f88d1f9d...|1-cd4b6c57ddbe77e...|    5|    null|      null|     null|    null| 1014|       null|1547808744923|   null|\n",
            "|0d86485d0f88d1f9d...|1-a35b25b5bf43aaf...|   32|      11|acceptable|     null|      73| null|         84|1547808752028|   null|\n",
            "|0d86485d0f88d1f9d...|1-b717f7289a8476d...|   48|      11|acceptable|     null|      79| null|         84|1547808768065|   null|\n",
            "|0d86485d0f88d1f9d...|1-c2f1f8fcf178b2f...|   18|    null|      null|       73|    null| null|       null|1547808773944|    228|\n",
            "|0d86485d0f88d1f9d...|1-15033dd9eebb4a8...|   59|      11|acceptable|     null|      72| null|         96|1547808779093|   null|\n",
            "|0d86485d0f88d1f9d...|1-753dae825f9a6c2...|   62|      11|acceptable|     null|      73| null|         88|1547808782113|   null|\n",
            "|0d86485d0f88d1f9d...|1-b168089f44f03f0...|   13|    null|      null|     null|    null| 1097|       null|1547808784940|   null|\n",
            "|0d86485d0f88d1f9d...|1-403b687c6be0dea...|   23|    null|      null|       80|    null| null|       null|1547808788955|    236|\n",
            "|0d86485d0f88d1f9d...|1-195551e0455a24b...|   72|      11|acceptable|     null|      77| null|         87|1547808792134|   null|\n",
            "|0d86485d0f88d1f9d...|1-060a39fc6c2ddee...|   26|    null|      null|       62|    null| null|       null|1547808797959|    233|\n",
            "|0d86485d0f88d1f9d...|1-2234514bffee465...|   27|    null|      null|       61|    null| null|       null|1547808800960|    226|\n",
            "|0d86485d0f88d1f9d...|1-4265898bb401db0...|   82|      11|acceptable|     null|      79| null|         96|1547808802154|   null|\n",
            "|0d86485d0f88d1f9d...|1-2fbf7ca9a0425a0...|   94|      11|acceptable|     null|      73| null|         90|1547808814186|   null|\n",
            "|0d86485d0f88d1f9d...|1-203c0ee6d7fbd21...|   97|      11|acceptable|     null|      77| null|         88|1547808817190|   null|\n",
            "|0d86485d0f88d1f9d...|1-47e1965db94fcab...|  104|      11|acceptable|     null|      75| null|         80|1547808824198|   null|\n",
            "+--------------------+--------------------+-----+--------+----------+---------+--------+-----+-----------+-------------+-------+\n",
            "only showing top 20 rows\n",
            "\n"
          ],
          "name": "stdout"
        }
      ]
    },
    {
      "cell_type": "code",
      "metadata": {
        "id": "o5ZpLZKi4rXS"
      },
      "source": [
        "result = spark.sql(\"\"\"\n",
        "SELECT * from (\n",
        "    SELECT\n",
        "    min(temperature) over w as min_temperature,\n",
        "    max(temperature) over w as max_temperature, \n",
        "    min(voltage) over w as min_voltage,\n",
        "    max(voltage) over w as max_voltage,\n",
        "    min(flowrate) over w as min_flowrate,\n",
        "    max(flowrate) over w as max_flowrate,\n",
        "    min(frequency) over w as min_frequency,\n",
        "    max(frequency) over w as max_frequency,\n",
        "    min(hardness) over w as min_hardness,\n",
        "    max(hardness) over w as max_hardness,\n",
        "    min(speed) over w as min_speed,\n",
        "    max(speed) over w as max_speed\n",
        "    FROM washing \n",
        "    WINDOW w AS (ORDER BY ts ROWS BETWEEN CURRENT ROW AND 10 FOLLOWING) \n",
        ")\n",
        "WHERE min_temperature is not null \n",
        "AND max_temperature is not null\n",
        "AND min_voltage is not null\n",
        "AND max_voltage is not null\n",
        "AND min_flowrate is not null\n",
        "AND max_flowrate is not null\n",
        "AND min_frequency is not null\n",
        "AND max_frequency is not null\n",
        "AND min_hardness is not null\n",
        "AND min_speed is not null\n",
        "AND max_speed is not null   \n",
        "\"\"\")"
      ],
      "execution_count": 6,
      "outputs": []
    },
    {
      "cell_type": "code",
      "metadata": {
        "id": "EsshLJJg33Rt"
      },
      "source": [
        "from pyspark.ml.feature import PCA\n",
        "from pyspark.ml.linalg import Vectors\n",
        "from pyspark.ml.feature import VectorAssembler"
      ],
      "execution_count": 3,
      "outputs": []
    },
    {
      "cell_type": "code",
      "metadata": {
        "id": "gm2b1cMt4Xpn"
      },
      "source": [
        "assembler=VectorAssembler(inputCols=result.columns,outputCol=\"features\")"
      ],
      "execution_count": 7,
      "outputs": []
    },
    {
      "cell_type": "code",
      "metadata": {
        "id": "k-f6QUPQ4vi9"
      },
      "source": [
        "features=assembler.transform(result)"
      ],
      "execution_count": 9,
      "outputs": []
    },
    {
      "cell_type": "code",
      "metadata": {
        "colab": {
          "base_uri": "https://localhost:8080/"
        },
        "id": "jA_FcXAh4l4r",
        "outputId": "9f1f0b4f-ce85-4ed3-bf6f-a7117910adcb"
      },
      "source": [
        "features.rdd.map(lambda r : r.features).take(10)"
      ],
      "execution_count": 10,
      "outputs": [
        {
          "output_type": "execute_result",
          "data": {
            "text/plain": [
              "[DenseVector([81.0, 100.0, 221.0, 223.0, 11.0, 11.0, 68.0, 76.0, 71.0, 78.0, 1033.0, 1033.0]),\n",
              " DenseVector([81.0, 100.0, 221.0, 223.0, 11.0, 11.0, 68.0, 76.0, 72.0, 78.0, 1033.0, 1033.0]),\n",
              " DenseVector([81.0, 100.0, 221.0, 223.0, 11.0, 11.0, 68.0, 76.0, 72.0, 80.0, 1033.0, 1033.0]),\n",
              " DenseVector([81.0, 100.0, 222.0, 223.0, 11.0, 11.0, 68.0, 74.0, 72.0, 80.0, 1033.0, 1046.0]),\n",
              " DenseVector([81.0, 100.0, 222.0, 223.0, 11.0, 11.0, 68.0, 74.0, 73.0, 80.0, 1033.0, 1046.0]),\n",
              " DenseVector([80.0, 94.0, 222.0, 223.0, 11.0, 11.0, 68.0, 74.0, 73.0, 80.0, 1033.0, 1046.0]),\n",
              " DenseVector([80.0, 94.0, 222.0, 236.0, 11.0, 11.0, 68.0, 74.0, 73.0, 80.0, 1046.0, 1046.0]),\n",
              " DenseVector([80.0, 94.0, 222.0, 236.0, 11.0, 11.0, 68.0, 74.0, 73.0, 80.0, 1046.0, 1046.0]),\n",
              " DenseVector([80.0, 94.0, 222.0, 236.0, 11.0, 11.0, 71.0, 74.0, 73.0, 80.0, 1046.0, 1046.0]),\n",
              " DenseVector([80.0, 94.0, 222.0, 236.0, 11.0, 11.0, 71.0, 74.0, 73.0, 80.0, 1046.0, 1046.0])]"
            ]
          },
          "metadata": {
            "tags": []
          },
          "execution_count": 10
        }
      ]
    },
    {
      "cell_type": "code",
      "metadata": {
        "id": "fHZFOMz94_Bj"
      },
      "source": [
        "pca=PCA(k=3,inputCol=\"features\",outputCol=\"pcafeatures\")\n",
        "model=pca.fit(features)"
      ],
      "execution_count": 11,
      "outputs": []
    },
    {
      "cell_type": "code",
      "metadata": {
        "colab": {
          "base_uri": "https://localhost:8080/"
        },
        "id": "FzDfIHwS5Nkw",
        "outputId": "d24b842e-1818-4f68-8914-f1bf84298593"
      },
      "source": [
        "result_pca=model.transform(features).select(\"pcafeatures\")\n",
        "result_pca.show()"
      ],
      "execution_count": 12,
      "outputs": [
        {
          "output_type": "stream",
          "text": [
            "+--------------------+\n",
            "|         pcafeatures|\n",
            "+--------------------+\n",
            "|[1459.97897058153...|\n",
            "|[1459.99548182878...|\n",
            "|[1460.08958435623...|\n",
            "|[1469.69939294206...|\n",
            "|[1469.71590418931...|\n",
            "|[1469.71283173397...|\n",
            "|[1478.35302645740...|\n",
            "|[1478.35302645740...|\n",
            "|[1478.36860361392...|\n",
            "|[1478.36860361392...|\n",
            "|[1483.54120276851...|\n",
            "|[1483.51710902244...|\n",
            "|[1483.42242685440...|\n",
            "|[1483.42242685440...|\n",
            "|[1488.10307354738...|\n",
            "|[1488.10769268507...|\n",
            "|[1488.01359015762...|\n",
            "|[1488.02637455672...|\n",
            "|[1465.16447384480...|\n",
            "|[1465.16447384480...|\n",
            "+--------------------+\n",
            "only showing top 20 rows\n",
            "\n"
          ],
          "name": "stdout"
        }
      ]
    },
    {
      "cell_type": "code",
      "metadata": {
        "colab": {
          "base_uri": "https://localhost:8080/"
        },
        "id": "_L6DCo245ZDG",
        "outputId": "0ec1cf05-3c87-4da8-eb7d-a3819f4ed757"
      },
      "source": [
        "result_pca.count()"
      ],
      "execution_count": 13,
      "outputs": [
        {
          "output_type": "execute_result",
          "data": {
            "text/plain": [
              "2051"
            ]
          },
          "metadata": {
            "tags": []
          },
          "execution_count": 13
        }
      ]
    },
    {
      "cell_type": "code",
      "metadata": {
        "id": "nPObqCcy5lZg"
      },
      "source": [
        "rdd = result_pca.rdd.sample(False,0.8)"
      ],
      "execution_count": 14,
      "outputs": []
    },
    {
      "cell_type": "code",
      "metadata": {
        "id": "8bsa97mF5mF0"
      },
      "source": [
        "x = rdd.map(lambda a : a.pcafeatures).map(lambda a : a[0]).collect()\n",
        "y = rdd.map(lambda a : a.pcafeatures).map(lambda a : a[1]).collect()\n",
        "z = rdd.map(lambda a : a.pcafeatures).map(lambda a : a[2]).collect()"
      ],
      "execution_count": 17,
      "outputs": []
    },
    {
      "cell_type": "code",
      "metadata": {
        "colab": {
          "base_uri": "https://localhost:8080/",
          "height": 248
        },
        "id": "k5JZrDrU5b8s",
        "outputId": "8a67107d-a419-448b-dfa9-5efe6ca298e0"
      },
      "source": [
        "%matplotlib inline\n",
        "import matplotlib.pyplot as plt\n",
        "from mpl_toolkits.mplot3d import Axes3D\n",
        "fig = plt.figure()\n",
        "ax = fig.add_subplot(111, projection='3d')\n",
        "ax.scatter(x,y,z, c='r', marker='o')\n",
        "ax.set_xlabel('dimension1')\n",
        "ax.set_ylabel('dimension2')\n",
        "ax.set_zlabel('dimension3')\n",
        "plt.show()"
      ],
      "execution_count": 18,
      "outputs": [
        {
          "output_type": "display_data",
          "data": {
            "image/png": "[encoded data removed]",
            "text/plain": [
              "<Figure size 432x288 with 1 Axes>"
            ]
          },
          "metadata": {
            "tags": [],
            "needs_background": "light"
          }
        }
      ]
    },
    {
      "cell_type": "code",
      "metadata": {
        "id": "m877BqCj6BUh"
      },
      "source": [
        ""
      ],
      "execution_count": null,
      "outputs": []
    }
  ]
}