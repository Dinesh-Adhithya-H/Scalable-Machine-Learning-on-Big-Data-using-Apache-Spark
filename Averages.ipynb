{
  "nbformat": 4,
  "nbformat_minor": 0,
  "metadata": {
    "colab": {
      "name": "Averages.ipynb",
      "provenance": [],
      "authorship_tag": "ABX9TyP6VgOoq0oUEGqxJDu2KiwD",
      "include_colab_link": true
    },
    "kernelspec": {
      "name": "python3",
      "display_name": "Python 3"
    },
    "language_info": {
      "name": "python"
    }
  },
  "cells": [
    {
      "cell_type": "markdown",
      "metadata": {
        "id": "view-in-github",
        "colab_type": "text"
      },
      "source": [
        "<a href=\"https://colab.research.google.com/github/Dinesh-Adhithya-H/Scalable-Machine-Learning-on-Big-Data-using-Apache-Spark/blob/main/Averages.ipynb\" target=\"_parent\"><img src=\"https://colab.research.google.com/assets/colab-badge.svg\" alt=\"Open In Colab\"/></a>"
      ]
    },
    {
      "cell_type": "code",
      "metadata": {
        "colab": {
          "base_uri": "https://localhost:8080/"
        },
        "id": "PM5MzJ6zVMyg",
        "outputId": "30f20c85-c395-4d32-b707-746b679bdeca"
      },
      "source": [
        "!pip install pyspark\n",
        "import pyspark"
      ],
      "execution_count": 1,
      "outputs": [
        {
          "output_type": "stream",
          "text": [
            "Collecting pyspark\n",
            "\u001b[?25l  Downloading https://files.pythonhosted.org/packages/89/db/e18cfd78e408de957821ec5ca56de1250645b05f8523d169803d8df35a64/pyspark-3.1.2.tar.gz (212.4MB)\n",
            "\u001b[K     |████████████████████████████████| 212.4MB 58kB/s \n",
            "\u001b[?25hCollecting py4j==0.10.9\n",
            "\u001b[?25l  Downloading https://files.pythonhosted.org/packages/9e/b6/6a4fb90cd235dc8e265a6a2067f2a2c99f0d91787f06aca4bcf7c23f3f80/py4j-0.10.9-py2.py3-none-any.whl (198kB)\n",
            "\u001b[K     |████████████████████████████████| 204kB 18.1MB/s \n",
            "\u001b[?25hBuilding wheels for collected packages: pyspark\n",
            "  Building wheel for pyspark (setup.py) ... \u001b[?25l\u001b[?25hdone\n",
            "  Created wheel for pyspark: filename=pyspark-3.1.2-py2.py3-none-any.whl size=212880768 sha256=8bc92c5143bee4e1b061a2b0d1f4fa619be2551d8d80a446eb3a1c9d157d50c5\n",
            "  Stored in directory: /root/.cache/pip/wheels/40/1b/2c/30f43be2627857ab80062bef1527c0128f7b4070b6b2d02139\n",
            "Successfully built pyspark\n",
            "Installing collected packages: py4j, pyspark\n",
            "Successfully installed py4j-0.10.9 pyspark-3.1.2\n"
          ],
          "name": "stdout"
        }
      ]
    },
    {
      "cell_type": "code",
      "metadata": {
        "id": "utXpY4inVQPe"
      },
      "source": [
        "from pyspark import SparkContext,SparkConf\n",
        "from pyspark.sql import SparkSession\n",
        "sc=SparkContext.getOrCreate(SparkConf().setMaster(\"local[*]\"))"
      ],
      "execution_count": 2,
      "outputs": []
    },
    {
      "cell_type": "code",
      "metadata": {
        "id": "XkEtP2Yge3Ta"
      },
      "source": [
        "rdd=sc.parallelize(list(range(102)))"
      ],
      "execution_count": 3,
      "outputs": []
    },
    {
      "cell_type": "code",
      "metadata": {
        "colab": {
          "base_uri": "https://localhost:8080/"
        },
        "id": "Sb9XQPHSe84l",
        "outputId": "1de1378b-e8f6-4107-eef4-da9559d0a537"
      },
      "source": [
        "sum=rdd.sum()\n",
        "n=rdd.count()\n",
        "mean=sum/n\n",
        "mean"
      ],
      "execution_count": 5,
      "outputs": [
        {
          "output_type": "execute_result",
          "data": {
            "text/plain": [
              "50.5"
            ]
          },
          "metadata": {
            "tags": []
          },
          "execution_count": 5
        }
      ]
    },
    {
      "cell_type": "code",
      "metadata": {
        "id": "QA9k5NNve-Yk"
      },
      "source": [
        "sorted_indexed=rdd.sortBy(lambda x : x).zipWithIndex()"
      ],
      "execution_count": 25,
      "outputs": []
    },
    {
      "cell_type": "code",
      "metadata": {
        "colab": {
          "base_uri": "https://localhost:8080/"
        },
        "id": "BrPuC_LifTTn",
        "outputId": "cb05d0ae-c6e3-4e93-a308-6227c267f4dc"
      },
      "source": [
        "sorted_indexed.collect()"
      ],
      "execution_count": 26,
      "outputs": [
        {
          "output_type": "execute_result",
          "data": {
            "text/plain": [
              "[(0, 0),\n",
              " (1, 1),\n",
              " (2, 2),\n",
              " (3, 3),\n",
              " (4, 4),\n",
              " (5, 5),\n",
              " (6, 6),\n",
              " (7, 7),\n",
              " (8, 8),\n",
              " (9, 9),\n",
              " (10, 10),\n",
              " (11, 11),\n",
              " (12, 12),\n",
              " (13, 13),\n",
              " (14, 14),\n",
              " (15, 15),\n",
              " (16, 16),\n",
              " (17, 17),\n",
              " (18, 18),\n",
              " (19, 19),\n",
              " (20, 20),\n",
              " (21, 21),\n",
              " (22, 22),\n",
              " (23, 23),\n",
              " (24, 24),\n",
              " (25, 25),\n",
              " (26, 26),\n",
              " (27, 27),\n",
              " (28, 28),\n",
              " (29, 29),\n",
              " (30, 30),\n",
              " (31, 31),\n",
              " (32, 32),\n",
              " (33, 33),\n",
              " (34, 34),\n",
              " (35, 35),\n",
              " (36, 36),\n",
              " (37, 37),\n",
              " (38, 38),\n",
              " (39, 39),\n",
              " (40, 40),\n",
              " (41, 41),\n",
              " (42, 42),\n",
              " (43, 43),\n",
              " (44, 44),\n",
              " (45, 45),\n",
              " (46, 46),\n",
              " (47, 47),\n",
              " (48, 48),\n",
              " (49, 49),\n",
              " (50, 50),\n",
              " (51, 51),\n",
              " (52, 52),\n",
              " (53, 53),\n",
              " (54, 54),\n",
              " (55, 55),\n",
              " (56, 56),\n",
              " (57, 57),\n",
              " (58, 58),\n",
              " (59, 59),\n",
              " (60, 60),\n",
              " (61, 61),\n",
              " (62, 62),\n",
              " (63, 63),\n",
              " (64, 64),\n",
              " (65, 65),\n",
              " (66, 66),\n",
              " (67, 67),\n",
              " (68, 68),\n",
              " (69, 69),\n",
              " (70, 70),\n",
              " (71, 71),\n",
              " (72, 72),\n",
              " (73, 73),\n",
              " (74, 74),\n",
              " (75, 75),\n",
              " (76, 76),\n",
              " (77, 77),\n",
              " (78, 78),\n",
              " (79, 79),\n",
              " (80, 80),\n",
              " (81, 81),\n",
              " (82, 82),\n",
              " (83, 83),\n",
              " (84, 84),\n",
              " (85, 85),\n",
              " (86, 86),\n",
              " (87, 87),\n",
              " (88, 88),\n",
              " (89, 89),\n",
              " (90, 90),\n",
              " (91, 91),\n",
              " (92, 92),\n",
              " (93, 93),\n",
              " (94, 94),\n",
              " (95, 95),\n",
              " (96, 96),\n",
              " (97, 97),\n",
              " (98, 98),\n",
              " (99, 99),\n",
              " (100, 100),\n",
              " (101, 101)]"
            ]
          },
          "metadata": {
            "tags": []
          },
          "execution_count": 26
        }
      ]
    },
    {
      "cell_type": "code",
      "metadata": {
        "colab": {
          "base_uri": "https://localhost:8080/"
        },
        "id": "8pfi1S3rffPi",
        "outputId": "f73dbb6b-48e4-45b7-8446-b33a9aa14525"
      },
      "source": [
        "n=sorted_indexed.count()\n",
        "if n%2==1:\n",
        "  index =(n-1)/2\n",
        "  print(sorted_indexed.lookup(index))\n",
        "else:\n",
        "  i1=(n/2)-1\n",
        "  i2=n/2\n",
        "  print(sorted_indexed.lookup(i1)+sorted_indexed.lookup(i2))"
      ],
      "execution_count": 40,
      "outputs": [
        {
          "output_type": "stream",
          "text": [
            "[50, 51]\n"
          ],
          "name": "stdout"
        }
      ]
    },
    {
      "cell_type": "code",
      "metadata": {
        "colab": {
          "base_uri": "https://localhost:8080/"
        },
        "id": "ch32sk6BhzKe",
        "outputId": "a932af70-c3fd-4d94-de5d-77f5a8700747"
      },
      "source": [
        "n"
      ],
      "execution_count": 31,
      "outputs": [
        {
          "output_type": "execute_result",
          "data": {
            "text/plain": [
              "102"
            ]
          },
          "metadata": {
            "tags": []
          },
          "execution_count": 31
        }
      ]
    },
    {
      "cell_type": "code",
      "metadata": {
        "colab": {
          "base_uri": "https://localhost:8080/"
        },
        "id": "sSC8TT2KiJ2n",
        "outputId": "057f923e-1e4c-4266-b4c7-2a374e5f54d6"
      },
      "source": [
        "sorted_indexed.lookup(7)"
      ],
      "execution_count": 34,
      "outputs": [
        {
          "output_type": "execute_result",
          "data": {
            "text/plain": [
              "[7]"
            ]
          },
          "metadata": {
            "tags": []
          },
          "execution_count": 34
        }
      ]
    },
    {
      "cell_type": "code",
      "metadata": {
        "id": "15wNDNbZiOgW"
      },
      "source": [
        ""
      ],
      "execution_count": null,
      "outputs": []
    }
  ]
}