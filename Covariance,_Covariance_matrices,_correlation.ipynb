{
  "nbformat": 4,
  "nbformat_minor": 0,
  "metadata": {
    "colab": {
      "name": "Covariance, Covariance matrices, correlation.ipynb",
      "provenance": [],
      "authorship_tag": "ABX9TyPcvpVDfvzaoHkc2yLId7Sv",
      "include_colab_link": true
    },
    "kernelspec": {
      "name": "python3",
      "display_name": "Python 3"
    },
    "language_info": {
      "name": "python"
    }
  },
  "cells": [
    {
      "cell_type": "markdown",
      "metadata": {
        "id": "view-in-github",
        "colab_type": "text"
      },
      "source": [
        "<a href=\"https://colab.research.google.com/github/Dinesh-Adhithya-H/Scalable-Machine-Learning-on-Big-Data-using-Apache-Spark/blob/main/Covariance%2C_Covariance_matrices%2C_correlation.ipynb\" target=\"_parent\"><img src=\"https://colab.research.google.com/assets/colab-badge.svg\" alt=\"Open In Colab\"/></a>"
      ]
    },
    {
      "cell_type": "code",
      "metadata": {
        "colab": {
          "base_uri": "https://localhost:8080/"
        },
        "id": "4cxrZ0ml2maC",
        "outputId": "b528dac8-7ae2-484c-8f95-4fd4d498c096"
      },
      "source": [
        "!pip install pyspark\n",
        "import pyspark\n",
        "from pyspark import SparkContext,SparkConf\n",
        "from pyspark.sql import SparkSession\n",
        "sc=SparkContext.getOrCreate(SparkConf().setMaster(\"local[*]\"))"
      ],
      "execution_count": 1,
      "outputs": [
        {
          "output_type": "stream",
          "text": [
            "Collecting pyspark\n",
            "\u001b[?25l  Downloading https://files.pythonhosted.org/packages/89/db/e18cfd78e408de957821ec5ca56de1250645b05f8523d169803d8df35a64/pyspark-3.1.2.tar.gz (212.4MB)\n",
            "\u001b[K     |████████████████████████████████| 212.4MB 63kB/s \n",
            "\u001b[?25hCollecting py4j==0.10.9\n",
            "\u001b[?25l  Downloading https://files.pythonhosted.org/packages/9e/b6/6a4fb90cd235dc8e265a6a2067f2a2c99f0d91787f06aca4bcf7c23f3f80/py4j-0.10.9-py2.py3-none-any.whl (198kB)\n",
            "\u001b[K     |████████████████████████████████| 204kB 11.6MB/s \n",
            "\u001b[?25hBuilding wheels for collected packages: pyspark\n",
            "  Building wheel for pyspark (setup.py) ... \u001b[?25l\u001b[?25hdone\n",
            "  Created wheel for pyspark: filename=pyspark-3.1.2-py2.py3-none-any.whl size=212880768 sha256=a621a9ea3cbd71179e7830e3486b4c89a4cb9c6189bec462536a9cde71a1da7b\n",
            "  Stored in directory: /root/.cache/pip/wheels/40/1b/2c/30f43be2627857ab80062bef1527c0128f7b4070b6b2d02139\n",
            "Successfully built pyspark\n",
            "Installing collected packages: py4j, pyspark\n",
            "Successfully installed py4j-0.10.9 pyspark-3.1.2\n"
          ],
          "name": "stdout"
        }
      ]
    },
    {
      "cell_type": "code",
      "metadata": {
        "id": "Liar-hFm4aDw"
      },
      "source": [
        "rdd1=sc.parallelize(range(100))\n",
        "rdd2=sc.parallelize(range(100))"
      ],
      "execution_count": 2,
      "outputs": []
    },
    {
      "cell_type": "code",
      "metadata": {
        "colab": {
          "base_uri": "https://localhost:8080/"
        },
        "id": "3ERMQu3o5Iaz",
        "outputId": "4b5120f6-1e95-42a8-8154-4eda856e8bc2"
      },
      "source": [
        "mean1=rdd1.sum()/rdd1.count()\n",
        "mean2=rdd2.sum()/rdd2.count()\n",
        "mean1,mean2"
      ],
      "execution_count": 3,
      "outputs": [
        {
          "output_type": "execute_result",
          "data": {
            "text/plain": [
              "(49.5, 49.5)"
            ]
          },
          "metadata": {
            "tags": []
          },
          "execution_count": 3
        }
      ]
    },
    {
      "cell_type": "code",
      "metadata": {
        "id": "eqeBvAE35U7Q"
      },
      "source": [
        "rdd12=rdd1.zip(rdd2)\n",
        "cov=rdd12.map(lambda x : (x[0]-mean1)*(x[1]-mean2))\n",
        "cov=cov.sum()/cov.count()"
      ],
      "execution_count": 28,
      "outputs": []
    },
    {
      "cell_type": "code",
      "metadata": {
        "colab": {
          "base_uri": "https://localhost:8080/"
        },
        "id": "i8aGyRJG5bvs",
        "outputId": "02084a43-6bcb-49ec-a1d9-3d025a22cca2"
      },
      "source": [
        "cov"
      ],
      "execution_count": 30,
      "outputs": [
        {
          "output_type": "execute_result",
          "data": {
            "text/plain": [
              "833.25"
            ]
          },
          "metadata": {
            "tags": []
          },
          "execution_count": 30
        }
      ]
    },
    {
      "cell_type": "code",
      "metadata": {
        "colab": {
          "base_uri": "https://localhost:8080/"
        },
        "id": "7ovfxpsh-GSb",
        "outputId": "c8fa474a-e618-4299-e6fc-cb2b987318ab"
      },
      "source": [
        "rdd1.collect()"
      ],
      "execution_count": 32,
      "outputs": [
        {
          "output_type": "execute_result",
          "data": {
            "text/plain": [
              "[0,\n",
              " 1,\n",
              " 2,\n",
              " 3,\n",
              " 4,\n",
              " 5,\n",
              " 6,\n",
              " 7,\n",
              " 8,\n",
              " 9,\n",
              " 10,\n",
              " 11,\n",
              " 12,\n",
              " 13,\n",
              " 14,\n",
              " 15,\n",
              " 16,\n",
              " 17,\n",
              " 18,\n",
              " 19,\n",
              " 20,\n",
              " 21,\n",
              " 22,\n",
              " 23,\n",
              " 24,\n",
              " 25,\n",
              " 26,\n",
              " 27,\n",
              " 28,\n",
              " 29,\n",
              " 30,\n",
              " 31,\n",
              " 32,\n",
              " 33,\n",
              " 34,\n",
              " 35,\n",
              " 36,\n",
              " 37,\n",
              " 38,\n",
              " 39,\n",
              " 40,\n",
              " 41,\n",
              " 42,\n",
              " 43,\n",
              " 44,\n",
              " 45,\n",
              " 46,\n",
              " 47,\n",
              " 48,\n",
              " 49,\n",
              " 50,\n",
              " 51,\n",
              " 52,\n",
              " 53,\n",
              " 54,\n",
              " 55,\n",
              " 56,\n",
              " 57,\n",
              " 58,\n",
              " 59,\n",
              " 60,\n",
              " 61,\n",
              " 62,\n",
              " 63,\n",
              " 64,\n",
              " 65,\n",
              " 66,\n",
              " 67,\n",
              " 68,\n",
              " 69,\n",
              " 70,\n",
              " 71,\n",
              " 72,\n",
              " 73,\n",
              " 74,\n",
              " 75,\n",
              " 76,\n",
              " 77,\n",
              " 78,\n",
              " 79,\n",
              " 80,\n",
              " 81,\n",
              " 82,\n",
              " 83,\n",
              " 84,\n",
              " 85,\n",
              " 86,\n",
              " 87,\n",
              " 88,\n",
              " 89,\n",
              " 90,\n",
              " 91,\n",
              " 92,\n",
              " 93,\n",
              " 94,\n",
              " 95,\n",
              " 96,\n",
              " 97,\n",
              " 98,\n",
              " 99]"
            ]
          },
          "metadata": {
            "tags": []
          },
          "execution_count": 32
        }
      ]
    },
    {
      "cell_type": "code",
      "metadata": {
        "colab": {
          "base_uri": "https://localhost:8080/"
        },
        "id": "jpeOPZwi53HV",
        "outputId": "66e545ee-becc-4f99-87f2-175fd2d5ff47"
      },
      "source": [
        "from math import sqrt\n",
        "n=rdd12.count()\n",
        "std1=sqrt(rdd1.map(lambda x : pow(x-mean1,2)).sum()/n)\n",
        "std2=sqrt(rdd2.map(lambda x : pow(x-mean2,2)).sum()/n)\n",
        "std1,std2"
      ],
      "execution_count": 39,
      "outputs": [
        {
          "output_type": "execute_result",
          "data": {
            "text/plain": [
              "(28.86607004772212, 28.86607004772212)"
            ]
          },
          "metadata": {
            "tags": []
          },
          "execution_count": 39
        }
      ]
    },
    {
      "cell_type": "code",
      "metadata": {
        "id": "f86j5Zmv-ujh"
      },
      "source": [
        "corr12=cov/(std1*std2)"
      ],
      "execution_count": 40,
      "outputs": []
    },
    {
      "cell_type": "code",
      "metadata": {
        "colab": {
          "base_uri": "https://localhost:8080/"
        },
        "id": "KHCoKS8v-9Uf",
        "outputId": "718dfdaa-17d9-4d86-c709-ab0d72de5d96"
      },
      "source": [
        "corr12"
      ],
      "execution_count": 41,
      "outputs": [
        {
          "output_type": "execute_result",
          "data": {
            "text/plain": [
              "1.0"
            ]
          },
          "metadata": {
            "tags": []
          },
          "execution_count": 41
        }
      ]
    },
    {
      "cell_type": "code",
      "metadata": {
        "id": "wHX-XKM7--4w"
      },
      "source": [
        "import random \n",
        "c1=sc.parallelize(range(100))\n",
        "c2=sc.parallelize(range(100,200))\n",
        "c3=sc.parallelize(list(reversed(range(100))))\n",
        "c4=sc.parallelize(random.sample(range(100),100))"
      ],
      "execution_count": 42,
      "outputs": []
    },
    {
      "cell_type": "code",
      "metadata": {
        "colab": {
          "base_uri": "https://localhost:8080/"
        },
        "id": "5qECuBP_ARwf",
        "outputId": "ba00f27a-c992-4d03-bbed-afae33b3e370"
      },
      "source": [
        "data=c1.zip(c2).zip(c3).zip(c4).map(lambda x: (x[0][0][1],x[0][0][1],x[0][1],x[1]))\n",
        "data.take(10)"
      ],
      "execution_count": 46,
      "outputs": [
        {
          "output_type": "execute_result",
          "data": {
            "text/plain": [
              "[(100, 100, 99, 74),\n",
              " (101, 101, 98, 80),\n",
              " (102, 102, 97, 51),\n",
              " (103, 103, 96, 6),\n",
              " (104, 104, 95, 89),\n",
              " (105, 105, 94, 77),\n",
              " (106, 106, 93, 31),\n",
              " (107, 107, 92, 7),\n",
              " (108, 108, 91, 18),\n",
              " (109, 109, 90, 78)]"
            ]
          },
          "metadata": {
            "tags": []
          },
          "execution_count": 46
        }
      ]
    },
    {
      "cell_type": "code",
      "metadata": {
        "colab": {
          "base_uri": "https://localhost:8080/"
        },
        "id": "k9SDIB2ZAbwo",
        "outputId": "152a59d2-a5f1-45cd-b721-d93c913d7513"
      },
      "source": [
        "from pyspark.mllib.stat import Statistics\n",
        "Statistics.corr(data)"
      ],
      "execution_count": 48,
      "outputs": [
        {
          "output_type": "execute_result",
          "data": {
            "text/plain": [
              "array([[ 1.       ,  1.       , -1.       , -0.1180438],\n",
              "       [ 1.       ,  1.       , -1.       , -0.1180438],\n",
              "       [-1.       , -1.       ,  1.       ,  0.1180438],\n",
              "       [-0.1180438, -0.1180438,  0.1180438,  1.       ]])"
            ]
          },
          "metadata": {
            "tags": []
          },
          "execution_count": 48
        }
      ]
    },
    {
      "cell_type": "code",
      "metadata": {
        "id": "hCHZVVa2Bdnl"
      },
      "source": [
        ""
      ],
      "execution_count": null,
      "outputs": []
    }
  ]
}